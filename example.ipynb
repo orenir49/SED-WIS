{
 "cells": [
  {
   "cell_type": "markdown",
   "metadata": {},
   "source": [
    "# Imports"
   ]
  },
  {
   "cell_type": "code",
   "execution_count": 2,
   "metadata": {},
   "outputs": [],
   "source": [
    "import numpy as np\n",
    "import band_retrieval_routines as brr\n",
    "import sed_routines as sr\n",
    "import extinction_routines as er\n",
    "from astropy.table import Table\n",
    "from os import path"
   ]
  },
  {
   "cell_type": "markdown",
   "metadata": {},
   "source": [
    "# Read models"
   ]
  },
  {
   "cell_type": "code",
   "execution_count": 6,
   "metadata": {},
   "outputs": [],
   "source": [
    "kurucz = Table(np.genfromtxt(path.join('.', 'models', 'kurucz_sed.dat'), names=True, dtype=None))\n",
    "co_da = Table(np.genfromtxt(path.join('.', 'models', 'CO_DA.dat'), names=True, dtype=None))\n",
    "co_db = Table(np.genfromtxt(path.join('.', 'models', 'CO_DB.dat'), names=True, dtype=None))\n",
    "he_da = Table(np.genfromtxt(path.join('.', 'models', 'He_wd.dat'), names=True, dtype=None))\n",
    "one_da = Table(np.genfromtxt(path.join('.', 'models', 'ONe_DA.dat'), names=True, dtype=None))\n",
    "one_db = Table(np.genfromtxt(path.join('.', 'models', 'ONe_DB.dat'), names=True, dtype=None))"
   ]
  },
  {
   "cell_type": "markdown",
   "metadata": {},
   "source": [
    "# Get observed photometry for a Gaia source"
   ]
  },
  {
   "cell_type": "code",
   "execution_count": 3,
   "metadata": {},
   "outputs": [
    {
     "name": "stderr",
     "output_type": "stream",
     "text": [
      "WARNING: NoResultsWarning: Query returned no results. [astroquery.mast.discovery_portal]\n"
     ]
    }
   ],
   "source": [
    "obs = brr.get_photometry_single_source(4111834567779557376)"
   ]
  },
  {
   "cell_type": "markdown",
   "metadata": {},
   "source": [
    "# SED models"
   ]
  },
  {
   "cell_type": "code",
   "execution_count": 7,
   "metadata": {},
   "outputs": [],
   "source": [
    "ms = sr.get_MS_sed(teff=5900, m1=1 , r1=1, meta=0, parallax=1.1538, kurucz=kurucz)\n",
    "wd = sr.get_wd_bedard_sed(teff=10000, m=0.3, parallax=1.1538, co_da=co_da, co_db=co_db, core='He',atm='H')"
   ]
  }
 ],
 "metadata": {
  "kernelspec": {
   "display_name": ".venv",
   "language": "python",
   "name": "python3"
  },
  "language_info": {
   "codemirror_mode": {
    "name": "ipython",
    "version": 3
   },
   "file_extension": ".py",
   "mimetype": "text/x-python",
   "name": "python",
   "nbconvert_exporter": "python",
   "pygments_lexer": "ipython3",
   "version": "3.11.9"
  }
 },
 "nbformat": 4,
 "nbformat_minor": 2
}
