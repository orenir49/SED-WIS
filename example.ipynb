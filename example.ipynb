{
 "cells": [
  {
   "cell_type": "markdown",
   "metadata": {},
   "source": [
    "# Imports"
   ]
  },
  {
   "cell_type": "code",
   "execution_count": 7,
   "metadata": {},
   "outputs": [],
   "source": [
    "import numpy as np\n",
    "import band_retrieval_routines as brr\n",
    "import sed_routines as sr\n",
    "import extinction_routines as er\n",
    "from astropy.table import Table\n",
    "from astropy import units as u\n",
    "from os import path"
   ]
  },
  {
   "cell_type": "markdown",
   "metadata": {},
   "source": [
    "# Read models"
   ]
  },
  {
   "cell_type": "code",
   "execution_count": 2,
   "metadata": {},
   "outputs": [],
   "source": [
    "kurucz = Table(np.genfromtxt(path.join('.', 'models', 'kurucz_sed.dat'), names=True, dtype=None))\n",
    "co_da = Table(np.genfromtxt(path.join('.', 'models', 'CO_DA.dat'), names=True, dtype=None))\n",
    "co_db = Table(np.genfromtxt(path.join('.', 'models', 'CO_DB.dat'), names=True, dtype=None))\n",
    "he_da = Table(np.genfromtxt(path.join('.', 'models', 'He_wd.dat'), names=True, dtype=None))\n",
    "one_da = Table(np.genfromtxt(path.join('.', 'models', 'ONe_DA.dat'), names=True, dtype=None))\n",
    "one_db = Table(np.genfromtxt(path.join('.', 'models', 'ONe_DB.dat'), names=True, dtype=None))"
   ]
  },
  {
   "cell_type": "markdown",
   "metadata": {},
   "source": [
    "# Get observed photometry for a Gaia source"
   ]
  },
  {
   "cell_type": "code",
   "execution_count": 3,
   "metadata": {},
   "outputs": [
    {
     "name": "stderr",
     "output_type": "stream",
     "text": [
      "WARNING: NoResultsWarning: Query returned no results. [astroquery.mast.discovery_portal]\n"
     ]
    }
   ],
   "source": [
    "obs = brr.get_photometry_single_source(4111834567779557376)"
   ]
  },
  {
   "cell_type": "markdown",
   "metadata": {},
   "source": [
    "# SED models"
   ]
  },
  {
   "cell_type": "code",
   "execution_count": 6,
   "metadata": {},
   "outputs": [],
   "source": [
    "ms = sr.get_MS_sed(teff=5900, m1=1 , r1=1, meta=0, parallax=1.1538)\n",
    "wd = sr.get_wd_bedard_sed(teff=10000, m=0.3, parallax=1.1538, core='He',atm='H')"
   ]
  },
  {
   "cell_type": "markdown",
   "metadata": {},
   "source": [
    "# Applying extinction to model flux OR color-magnitude\n",
    "* Typically, the extinction is given in the Johnson V-band: $A_V$.\n",
    "* One commonly needs the extinction in some other band X.\n",
    "* The script extinction_routines.py does this conversion, through the so-called \"extinction coefficients\" $k_X = A_V/A_X$.\n",
    "* $k_X$ depends on both $A_V$ AND the temperature of the source (approximation).\n",
    "* The functions of extinction_routines.py accept $A_V$ and EITHER $T_{eff}$ OR the $BP-RP$ color of the source (used to approximate the temperature).\n",
    "* For extinction $A_X$, the model flux in the X band should be suppressed by the following factor:\n",
    "$$F_X' = F_X \\cdot 10^{-0.4\\cdot A_X}$$\n",
    "* Similarly, for extinction $A_X$ the model magnitude should be suppressed as follows:\n",
    "$$X' = X + A_X $$\n",
    "* For reddening $E(Y-Z)$ the model color changes as follows:\n",
    "$$(Y-Z)' = (Y-Z) + E(Y-Z)$$"
   ]
  },
  {
   "cell_type": "code",
   "execution_count": null,
   "metadata": {},
   "outputs": [
    {
     "name": "stdout",
     "output_type": "stream",
     "text": [
      "Model flux: 5.01e-15 erg / (Angstrom s cm2)\n",
      "Reddened flux: 4.61e-15 erg / (Angstrom s cm2)\n"
     ]
    }
   ],
   "source": [
    "## Example of reddening model flux\n",
    "\n",
    "teff_model = 5900 # temperature of model is known exactly, and determines the extinction coefficients\n",
    "Gflux = sr.get_MS_sed(teff=teff_model, m1=1 , r1=1, meta=0, parallax=1.1538)['G3'] # G-band flux in physical units\n",
    "Av = 0.1 # Assume some extinction in V-band; this could be provided by extinction maps or other sources\n",
    "A_G,A_BP,A_RP = er.get_Gaia_extinction(Av,0,teff_model) # Get extinction coefficients for the model temperature\n",
    "\n",
    "Gflux_reddened = Gflux * 10**(-0.4*A_G) # Apply extinction to the G-band flux\n",
    "print(f'Model flux: {Gflux[0]*Gflux.unit:.2e}')\n",
    "print(f'Reddened flux: {Gflux_reddened[0]*Gflux.unit:.2e}')"
   ]
  },
  {
   "cell_type": "code",
   "execution_count": null,
   "metadata": {},
   "outputs": [],
   "source": [
    "## Example of reddening model color+magnitude\n",
    "\n",
    "Gmag = 10 # Assume some G-band magnitude (given by some model)\n",
    "bprp_color = 1 # Assume some BP-RP color (given by some model)\n",
    "A_G, E_BPRP = er.get_AG_EBPRP(Av,bprp_color) \n",
    "\n",
    "Gmag_reddened = Gmag + A_G\n",
    "bprp_color_reddened = bprp_color + E_BPRP\n",
    "print(f'Model G: {Gmag:.2f}')\n",
    "print(f'Reddened G: {Gmag_reddened:.2f}')"
   ]
  }
 ],
 "metadata": {
  "kernelspec": {
   "display_name": ".venv",
   "language": "python",
   "name": "python3"
  },
  "language_info": {
   "codemirror_mode": {
    "name": "ipython",
    "version": 3
   },
   "file_extension": ".py",
   "mimetype": "text/x-python",
   "name": "python",
   "nbconvert_exporter": "python",
   "pygments_lexer": "ipython3",
   "version": "3.11.9"
  }
 },
 "nbformat": 4,
 "nbformat_minor": 2
}
